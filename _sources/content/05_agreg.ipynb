{
 "cells": [
  {
   "cell_type": "markdown",
   "id": "1b95d73b",
   "metadata": {},
   "source": [
    "# Les requêtes d'agrégation\n",
    "\n",
    "## Regroupements\n",
    "\n",
    "\n",
    "* Auteurs/trices : **CASTRIQUE Jérémy, NOJAC Dimitri, VAVASSEUR Salomé**\n",
    "\n",
    "Dans cette partie, nous allons étudier **les regroupements dans les requêtes d'aggrégation**. Dans un premier temps, nous étudierons ce qu'est l'étape de regroupement. Ensuite nous regarderons comment effectuer des calculs à l'aide des 4 d'opérateurs qui sont : ** $sum, $max, $min, $count**. \n",
    "  * somme, count, max, min, avec ou sans groupe\n",
    "test\n",
    "  Le fichier que vous devez modifier pour ce chapitre est `mongo_book/content/05_agreg.md`.\n",
    "  \n",
    "  Je refais un test\n",
    "\n",
    "## Successions d'étapes d'agrégation\n",
    "\n",
    "* Auteurs/trices : Marine BINARD, Arthur CONAS, Yann CAUSEUR\n",
    "\n",
    "Cette section traite de :\n",
    "* successions d'étapes d'agrégation + unwind + project + sort + limit\n",
    ";\n",
    "Le fichier que vous devez modifier pour ce chapitre est `mongo_book/content/05_agreg.md`."
   ]
  }
 ],
 "metadata": {
  "jupytext": {
   "cell_metadata_filter": "-all",
   "formats": "md:myst",
   "text_representation": {
    "extension": ".md",
    "format_name": "myst",
    "format_version": 0.12,
    "jupytext_version": "1.9.1"
   }
  },
  "kernelspec": {
   "display_name": "IMongo",
   "language": "",
   "name": "imongo"
  },
  "language_info": {
   "codemirror_mode": "shell",
   "file_extension": ".js",
   "mimetype": "text/x-mongodb",
   "name": "javascript"
  },
  "source_map": [
   14
  ]
 },
 "nbformat": 4,
 "nbformat_minor": 5
}